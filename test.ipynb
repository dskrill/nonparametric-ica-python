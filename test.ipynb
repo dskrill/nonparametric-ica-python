{
 "cells": [
  {
   "cell_type": "code",
   "execution_count": 1,
   "metadata": {},
   "outputs": [],
   "source": [
    "import numpy as np\n",
    "from numpy.random import RandomState, SeedSequence, MT19937, Generator\n",
    "\n",
    "from nonparametric_ica_python import ICA\n"
   ]
  },
  {
   "cell_type": "code",
   "execution_count": 2,
   "metadata": {},
   "outputs": [],
   "source": [
    "import matlab.engine\n",
    "eng=matlab.engine.start_matlab()"
   ]
  },
  {
   "cell_type": "code",
   "execution_count": 3,
   "metadata": {},
   "outputs": [],
   "source": [
    "\n",
    "M = 100\n",
    "N = 10000\n",
    "K = 3\n",
    "rng = Generator(MT19937(1))\n",
    "R_true = rng.random((M,K))\n",
    "W_true = rng.exponential(1,(K,N))\n",
    "X = R_true@W_true + 0.1*rng.normal(size=(M,N))\n",
    "X_zero_mean_rows = X - X.mean(axis=1,keepdims=True)\n",
    "U,S,V = np.linalg.svd(X_zero_mean_rows,full_matrices=False)\n",
    "V = V.T # consistent w/ Matlab\n",
    "Rpca = U[:,range(K)] @ np.diag(S[range(K)])\n",
    "Wpca = V[:,range(K)].T\n",
    "\n"
   ]
  },
  {
   "cell_type": "code",
   "execution_count": 4,
   "metadata": {},
   "outputs": [],
   "source": [
    "ica = ICA(K)\n",
    "R_python,W_python,_,__ = ica.nonparametric_ica(X)"
   ]
  },
  {
   "cell_type": "code",
   "execution_count": 5,
   "metadata": {},
   "outputs": [
    {
     "data": {
      "text/plain": [
       "(array([3079, 4370, 1817,  532,  149,   41,   10,    1,    0,    1]),\n",
       " array([-0.10586238,  0.93313702,  1.97213643,  3.01113583,  4.05013524,\n",
       "         5.08913464,  6.12813404,  7.16713345,  8.20613285,  9.24513225,\n",
       "        10.28413166]))"
      ]
     },
     "execution_count": 5,
     "metadata": {},
     "output_type": "execute_result"
    }
   ],
   "source": [
    "np.histogram(X[0,:])"
   ]
  },
  {
   "cell_type": "code",
   "execution_count": 6,
   "metadata": {},
   "outputs": [
    {
     "data": {
      "text/plain": [
       "'/home/dskrill/Documents/MATLAB:/usr/local/MATLAB/R2021a/toolbox/matlab/validators:/usr/local/MATLAB/R2021a/toolbox/matlab/elfun:/usr/local/MATLAB/R2021a/toolbox/matlab/elmat:/usr/local/MATLAB/R2021a/toolbox/matlab/capabilities:/usr/local/MATLAB/R2021a/toolbox/matlab/polyfun:/usr/local/MATLAB/R2021a/toolbox/matlab/sparfun:/usr/local/MATLAB/R2021a/toolbox/matlab/randfun:/usr/local/MATLAB/R2021a/toolbox/matlab/matfun:/usr/local/MATLAB/R2021a/toolbox/matlab/general:/usr/local/MATLAB/R2021a/toolbox/matlab/timefun:/usr/local/MATLAB/R2021a/toolbox/matlab/funfun:/usr/local/MATLAB/R2021a/toolbox/matlab/mvm:/usr/local/MATLAB/R2021a/toolbox/matlab/specfun:/usr/local/MATLAB/R2021a/toolbox/matlab/iofun:/usr/local/MATLAB/R2021a/toolbox/matlab/datafun:/usr/local/MATLAB/R2021a/toolbox/matlab/ops:/usr/local/MATLAB/R2021a/toolbox/matlab/datatypes:/usr/local/MATLAB/R2021a/toolbox/matlab/lang:/usr/local/MATLAB/R2021a/toolbox/matlab/strfun:/usr/local/MATLAB/R2021a/toolbox/matlab/strfun/validators:/usr/local/MATLAB/R2021a/toolbox/matlab/iot/connectivity:/usr/local/MATLAB/R2021a/toolbox/matlab/graphics/math:/usr/local/MATLAB/R2021a/toolbox/matlab/io/ftp:/usr/local/MATLAB/R2021a/toolbox/matlab/urlmanager:/usr/local/MATLAB/R2021a/toolbox/matlab/testframework/unittest/core:/usr/local/MATLAB/R2021a/toolbox/matlab/testframework/obsolete:/usr/local/MATLAB/R2021a/toolbox/matlab/strfun/pattern:/usr/local/MATLAB/R2021a/toolbox/matlab/datatypes/shared/codegen:/usr/local/MATLAB/R2021a/toolbox/matlab/io/functions:/usr/local/MATLAB/R2021a/toolbox/matlab/datatypes/codegen/duration:/usr/local/MATLAB/R2021a/toolbox/matlab/datatypes/datetime_nonlibmatlab:/usr/local/MATLAB/R2021a/toolbox/matlab/datatypes/shared/matlab_datatypes:/usr/local/MATLAB/R2021a/toolbox/matlab/parallel:/usr/local/MATLAB/R2021a/toolbox/matlab/mapreduceio:/usr/local/MATLAB/R2021a/toolbox/matlab/verctrl:/usr/local/MATLAB/R2021a/toolbox/matlab/datatools/desktop_variableeditor/matlab:/usr/local/MATLAB/R2021a/toolbox/matlab/testframework/performance/ext:/usr/local/MATLAB/R2021a/toolbox/matlab/maps:/usr/local/MATLAB/R2021a/toolbox/matlab/graphics/maps:/usr/local/MATLAB/R2021a/toolbox/matlab/datamanager:/usr/local/MATLAB/R2021a/toolbox/matlab/datatypes/codegen/categorical:/usr/local/MATLAB/R2021a/toolbox/matlab/graph2d:/usr/local/MATLAB/R2021a/toolbox/matlab/graph3d:/usr/local/MATLAB/R2021a/toolbox/matlab/graphics:/usr/local/MATLAB/R2021a/toolbox/matlab/graphics/annotation:/usr/local/MATLAB/R2021a/toolbox/matlab/graphics/axis:/usr/local/MATLAB/R2021a/toolbox/matlab/graphics/chart:/usr/local/MATLAB/R2021a/toolbox/matlab/graphics/color:/usr/local/MATLAB/R2021a/toolbox/matlab/graphics/function:/usr/local/MATLAB/R2021a/toolbox/matlab/graphics/illustration:/usr/local/MATLAB/R2021a/toolbox/matlab/graphics/legacy:/usr/local/MATLAB/R2021a/toolbox/matlab/graphics/obsolete:/usr/local/MATLAB/R2021a/toolbox/matlab/graphics/printing:/usr/local/MATLAB/R2021a/toolbox/matlab/graphics/objectsystem:/usr/local/MATLAB/R2021a/toolbox/matlab/graphics/primitive:/usr/local/MATLAB/R2021a/toolbox/matlab/plottools:/usr/local/MATLAB/R2021a/toolbox/matlab/scribe:/usr/local/MATLAB/R2021a/toolbox/matlab/scribe/obsolete:/usr/local/MATLAB/R2021a/toolbox/matlab/specgraph:/usr/local/MATLAB/R2021a/toolbox/matlab/uitools:/usr/local/MATLAB/R2021a/toolbox/matlab/uitools/obsolete:/usr/local/MATLAB/R2021a/toolbox/matlab/testframework/ui/toolstrip:/usr/local/MATLAB/R2021a/toolbox/matlab/codetools:/usr/local/MATLAB/R2021a/toolbox/matlab/codetools/embeddedoutputs:/usr/local/MATLAB/R2021a/toolbox/matlab/codetools/embeddedoutputs/DataToolsRegistration:/usr/local/MATLAB/R2021a/toolbox/matlab/codetools/liveapps:/usr/local/MATLAB/R2021a/toolbox/matlab/hardware/stubs:/usr/local/MATLAB/R2021a/toolbox/matlab/io/datastore/array:/usr/local/MATLAB/R2021a/toolbox/matlab/datatools/desktop_workspacebrowser/matlab:/usr/local/MATLAB/R2021a/toolbox/matlab/bigdata:/usr/local/MATLAB/R2021a/toolbox/matlab/icons:/usr/local/MATLAB/R2021a/toolbox/matlab/datatypes/datetime:/usr/local/MATLAB/R2021a/toolbox/matlab/datatypes/duration:/usr/local/MATLAB/R2021a/toolbox/matlab/datatypes/codegen/tabular:/usr/local/MATLAB/R2021a/toolbox/matlab/dataui:/usr/local/MATLAB/R2021a/toolbox/matlab/iot:/usr/local/MATLAB/R2021a/toolbox/local:/usr/local/MATLAB/R2021a/toolbox/matlab/testframework/measurement/ext:/usr/local/MATLAB/R2021a/toolbox/matlab/plottools/inspector:/usr/local/MATLAB/R2021a/toolbox/matlab/datatypes/categorical:/usr/local/MATLAB/R2021a/toolbox/matlab/depfun:/usr/local/MATLAB/R2021a/toolbox/matlab/optimfun:/usr/local/MATLAB/R2021a/toolbox/matlab/testframework/unittest/ext:/usr/local/MATLAB/R2021a/toolbox/matlab/testframework/performance/core:/usr/local/MATLAB/R2021a/toolbox/matlab/parquetio:/usr/local/MATLAB/R2021a/toolbox/matlab/helptools:/usr/local/MATLAB/R2021a/toolbox/matlab/network:/usr/local/MATLAB/R2021a/toolbox/matlab/testframework/mock/core:/usr/local/MATLAB/R2021a/toolbox/matlab/guide:/usr/local/MATLAB/R2021a/toolbox/matlab/winfun:/usr/local/MATLAB/R2021a/toolbox/matlab/winfun/NET:/usr/local/MATLAB/R2021a/toolbox/matlab/testframework/measurement/core:/usr/local/MATLAB/R2021a/toolbox/matlab/parquetds:/usr/local/MATLAB/R2021a/toolbox/matlab/datatypes/codegen/datetime:/usr/local/MATLAB/R2021a/toolbox/matlab/datastoreio:/usr/local/MATLAB/R2021a/toolbox/matlab/images:/usr/local/MATLAB/R2021a/toolbox/matlab/io/spreadsheet:/usr/local/MATLAB/R2021a/toolbox/matlab/testframework/uiautomation:/usr/local/MATLAB/R2021a/toolbox/matlab/io/xml:/usr/local/MATLAB/R2021a/toolbox/matlab/demos:/usr/local/MATLAB/R2021a/toolbox/matlab/graphics/hg:/usr/local/MATLAB/R2021a/toolbox/matlab/testframework/uitest:/usr/local/MATLAB/R2021a/toolbox/matlab/graphfun:/usr/local/MATLAB/R2021a/toolbox/matlab/matlab_preferences/matlab:/usr/local/MATLAB/R2021a/toolbox/matlab/codeanalysis/reports/analysis:/usr/local/MATLAB/R2021a/toolbox/matlab/io/archive:/usr/local/MATLAB/R2021a/toolbox/matlab/datatypes/tabular:/usr/local/MATLAB/R2021a/toolbox/matlab/datatypes/calendarDuration:/usr/local/MATLAB/R2021a/toolbox/matlab/io/text:/usr/local/MATLAB/R2021a/toolbox/simulink/configset_model/configset:/usr/local/MATLAB/R2021a/toolbox/simulink/configset_model/configset/derived:/usr/local/MATLAB/R2021a/toolbox/simulink/protected_model/core/core:/usr/local/MATLAB/R2021a/toolbox/shared/stateflow:/usr/local/MATLAB/R2021a/toolbox/matlab/dependency/widget/window:/usr/local/MATLAB/R2021a/toolbox/shared/m3i:/usr/local/MATLAB/R2021a/toolbox/hdlcoder/hdllib/ml_lib:/usr/local/MATLAB/R2021a/toolbox/shared/mlreportgen/widgets/equation/matlab:/usr/local/MATLAB/R2021a/toolbox/matlab/external/interfaces/cpp:/usr/local/MATLAB/R2021a/toolbox/matlab/datatools/workspacebrowser/matlab:/usr/local/MATLAB/R2021a/toolbox/matlab/embeddedoutputs/figureoutputs:/usr/local/MATLAB/R2021a/toolbox/matlab/external/interfaces/webservices/http:/usr/local/MATLAB/R2021a/toolbox/matlab/project/dependency:/usr/local/MATLAB/R2021a/toolbox/matlab/external/interfaces/webservices/wsdl:/usr/local/MATLAB/R2021a/toolbox/rptgen/xmlcomp:/usr/local/MATLAB/R2021a/toolbox/simulink/simulink_data_dictionary/sldd:/usr/local/MATLAB/R2021a/toolbox/shared/polyspace:/usr/local/MATLAB/R2021a/toolbox/shared/asam/mdf:/usr/local/MATLAB/R2021a/toolbox/matlab/connector2/restmatlab:/usr/local/MATLAB/R2021a/toolbox/signal/sigdemos:/usr/local/MATLAB/R2021a/toolbox/matlab/rtc_addons/rtclanguagesupport/rtc_java_language_support/matlab:/usr/local/MATLAB/R2021a/toolbox/shared/system/coder:/usr/local/MATLAB/R2021a/toolbox/shared/mlreportgen/ppt:/usr/local/MATLAB/R2021a/toolbox/shared/mlreportgen/ppt/ppt:/usr/local/MATLAB/R2021a/toolbox/shared/mlreportgen/ppt/ppt/help:/usr/local/MATLAB/R2021a/toolbox/matlab/datatools/variableeditor/matlab:/usr/local/MATLAB/R2021a/toolbox/shared/dsp/float2fixed:/usr/local/MATLAB/R2021a/toolbox/matlab/serialport:/usr/local/MATLAB/R2021a/examples/matlabmobile/data:/usr/local/MATLAB/R2021a/toolbox/shared/maputils:/usr/local/MATLAB/R2021a/toolbox/shared/template_core:/usr/local/MATLAB/R2021a/toolbox/matlab/audiovideo:/usr/local/MATLAB/R2021a/toolbox/shared/controllib/estimation:/usr/local/MATLAB/R2021a/toolbox/matlab/connector2/editor:/usr/local/MATLAB/R2021a/toolbox/matlab/datatools/importtool/matlab/server:/usr/local/MATLAB/R2021a/toolbox/dsp/dsp:/usr/local/MATLAB/R2021a/toolbox/dsp/dsputilities:/usr/local/MATLAB/R2021a/toolbox/dsp/dsputilities/crl:/usr/local/MATLAB/R2021a/toolbox/dsp/dsputilities/dspinit:/usr/local/MATLAB/R2021a/toolbox/dsp/dsputilities/dspmex:/usr/local/MATLAB/R2021a/toolbox/dsp/dsp/compiled:/usr/local/MATLAB/R2021a/toolbox/dsp/filterdesign:/usr/local/MATLAB/R2021a/toolbox/shared/hwmanager/hwsetup:/usr/local/MATLAB/R2021a/toolbox/shared/hwmanager/hwsetup/hwwidgets:/usr/local/MATLAB/R2021a/toolbox/shared/hwmanager/hwsetup/hwtemplates:/usr/local/MATLAB/R2021a/toolbox/shared/hwmanager/hwsetup/launch:/usr/local/MATLAB/R2021a/toolbox/matlab/timeseries:/usr/local/MATLAB/R2021a/toolbox/shared/labelutils/labelutils:/usr/local/MATLAB/R2021a/toolbox/coder/coder:/usr/local/MATLAB/R2021a/toolbox/matlab/resources_folder:/usr/local/MATLAB/R2021a/toolbox/matlab/connector2/worker:/usr/local/MATLAB/R2021a/toolbox/coder/coderapp/utils/ml:/usr/local/MATLAB/R2021a/toolbox/shared/cmlink/matlab:/usr/local/MATLAB/R2021a/toolbox/shared/cgir_fe:/usr/local/MATLAB/R2021a/toolbox/shared/dsp/simulink/dsp:/usr/local/MATLAB/R2021a/toolbox/matlab/project:/usr/local/MATLAB/R2021a/toolbox/matlab/project/example:/usr/local/MATLAB/R2021a/toolbox/matlab/project/toolstrip:/usr/local/MATLAB/R2021a/toolbox/simulink/simulink/slproject:/usr/local/MATLAB/R2021a/toolbox/simulink/simulink/slproject/menu:/usr/local/MATLAB/R2021a/toolbox/matlab/dependency/analysis:/usr/local/MATLAB/R2021a/toolbox/shared/controllib/graphics:/usr/local/MATLAB/R2021a/toolbox/shared/controllib/graphics/utils:/usr/local/MATLAB/R2021a/toolbox/shared/controllib/graphics/plotoptions:/usr/local/MATLAB/R2021a/toolbox/shared/sl_coverage_configset:/usr/local/MATLAB/R2021a/toolbox/shared/dastudio:/usr/local/MATLAB/R2021a/toolbox/shared/dsp/hdl:/usr/local/MATLAB/R2021a/toolbox/matlab/filebrowser:/usr/local/MATLAB/R2021a/toolbox/signal/signallabeler:/usr/local/MATLAB/R2021a/toolbox/matlab/connector2/interpreter:/usr/local/MATLAB/R2021a/toolbox/shared/datacreation:/usr/local/MATLAB/R2021a/toolbox/shared/datacreation/task:/usr/local/MATLAB/R2021a/toolbox/shared/datacreation/task/codegenerator:/usr/local/MATLAB/R2021a/toolbox/shared/datacreation/task/interface:/usr/local/MATLAB/R2021a/toolbox/shared/datacreation/task/ui:/usr/local/MATLAB/R2021a/toolbox/shared/datacreation/uicomponent:/usr/local/MATLAB/R2021a/toolbox/shared/datacreation/datagenerator:/usr/local/MATLAB/R2021a/toolbox/matlab/project/views/util:/usr/local/MATLAB/R2021a/toolbox/matlab/addons_registry/matlab:/usr/local/MATLAB/R2021a/toolbox/shared/mlreportgen/rpt:/usr/local/MATLAB/R2021a/toolbox/shared/mlreportgen/rpt/rpt:/usr/local/MATLAB/R2021a/toolbox/shared/hwmanager/hwconnection:/usr/local/MATLAB/R2021a/toolbox/matlab/datatools/peermodel_mcos/matlab:/usr/local/MATLAB/R2021a/toolbox/matlab/connector2/figures:/usr/local/MATLAB/R2021a/toolbox/audio/templates:/usr/local/MATLAB/R2021a/toolbox/shared/dsp/webscopes/mlarrayplot:/usr/local/MATLAB/R2021a/toolbox/shared/advisor:/usr/local/MATLAB/R2021a/toolbox/shared/supportpkgservices/legacysupportpkginfo:/usr/local/MATLAB/R2021a/toolbox/shared/supportpkgservices/installservices:/usr/local/MATLAB/R2021a/toolbox/shared/supportpkgservices/supportpackageroot:/usr/local/MATLAB/R2021a/toolbox/shared/supportpkgservices/installedapi:/usr/local/MATLAB/R2021a/toolbox/shared/networklib:/usr/local/MATLAB/R2021a/toolbox/diagram/editor/web/m:/usr/local/MATLAB/R2021a/toolbox/shared/filterdesignlib:/usr/local/MATLAB/R2021a/toolbox/shared/filterdesignlib/filterbuilder:/usr/local/MATLAB/R2021a/toolbox/classdiagram/app/core:/usr/local/MATLAB/R2021a/toolbox/dig/dig:/usr/local/MATLAB/R2021a/toolbox/signal/signalanalyzer:/usr/local/MATLAB/R2021a/toolbox/shared/mlreportgen/utils:/usr/local/MATLAB/R2021a/toolbox/coder/targetreg:/usr/local/MATLAB/R2021a/toolbox/matlab/pathtool:/usr/local/MATLAB/R2021a/toolbox/matlab/rtc_addons/rtclanguagesupport/rtc_verilog_language_support/matlab:/usr/local/MATLAB/R2021a/toolbox/matlab/filebrowser_actions/default_actions/matlab:/usr/local/MATLAB/R2021a/toolbox/matlab/filebrowser_actions/layout_actions/matlab:/usr/local/MATLAB/R2021a/toolbox/matlab/filebrowser_actions/sharing_actions/matlab:/usr/local/MATLAB/R2021a/toolbox/matlab/uicomponents/uicomponents/plugin/appdesigner:/usr/local/MATLAB/R2021a/toolbox/shared/system/coreblocks:/usr/local/MATLAB/R2021a/examples/deeplearning_shared/data:/usr/local/MATLAB/R2021a/toolbox/shared/spcuilib/webscopes:/usr/local/MATLAB/R2021a/toolbox/fixedpoint/fixedpoint:/usr/local/MATLAB/R2021a/toolbox/matlab/connector2/nativebridge:/usr/local/MATLAB/R2021a/toolbox/matlab/dependency/refactoring:/usr/local/MATLAB/R2021a/toolbox/matlab/external/interfaces/python:/usr/local/MATLAB/R2021a/toolbox/shared/coder/coder/lib:/usr/local/MATLAB/R2021a/examples/matlab/data:/usr/local/MATLAB/R2021a/toolbox/coder/coderapp/form/ml:/usr/local/MATLAB/R2021a/toolbox/shared/imageio:/usr/local/MATLAB/R2021a/toolbox/shared/deviceplugindetection:/usr/local/MATLAB/R2021a/toolbox/shared/signalwavelet/signalwavelet:/usr/local/MATLAB/R2021a/examples/audio/data:/usr/local/MATLAB/R2021a/toolbox/shared/audio/signallabeler:/usr/local/MATLAB/R2021a/toolbox/dsp/dsphdl:/usr/local/MATLAB/R2021a/toolbox/dsp/dsphdl/compiled:/usr/local/MATLAB/R2021a/toolbox/dsp/dsphdl/dsputilities:/usr/local/MATLAB/R2021a/toolbox/shared/viewmodel/viewmodel:/usr/local/MATLAB/R2021a/toolbox/shared/mlreportgen/dom:/usr/local/MATLAB/R2021a/toolbox/shared/mlreportgen/dom/dom:/usr/local/MATLAB/R2021a/toolbox/shared/mlreportgen/dom/dom/help:/usr/local/MATLAB/R2021a/toolbox/shared/mlreportgen/xml_transform/xml_transform/help:/usr/local/MATLAB/R2021a/toolbox/matlab/rtc_addons/rtclanguagesupport/rtc_clike_language_support/matlab:/usr/local/MATLAB/R2021a/toolbox/matlab/connector2/shadowfiles:/usr/local/MATLAB/R2021a/toolbox/matlab/rtc_addons/rtclanguagesupport/rtc_vhdl_language_support/matlab:/usr/local/MATLAB/R2021a/toolbox/matlab/configtools:/usr/local/MATLAB/R2021a/examples/dsp/data:/usr/local/MATLAB/R2021a/toolbox/matlab/connector2/logger:/usr/local/MATLAB/R2021a/toolbox/matlab/appcontainer/appcontainer:/usr/local/MATLAB/R2021a/toolbox/coder/connectivity_core:/usr/local/MATLAB/R2021a/toolbox/diagram/layout/treelayout:/usr/local/MATLAB/R2021a/toolbox/shared/matlab/testframework/baselines:/usr/local/MATLAB/R2021a/toolbox/signal/deep:/usr/local/MATLAB/R2021a/toolbox/matlab/datatools/inspector/registration:/usr/local/MATLAB/R2021a/toolbox/shared/virtualfileio:/usr/local/MATLAB/R2021a/toolbox/matlab/connector2/messageservice:/usr/local/MATLAB/R2021a/toolbox/matlab/project/unsavedchanges:/usr/local/MATLAB/R2021a/toolbox/shared/sdi_matlabunit:/usr/local/MATLAB/R2021a/toolbox/matlab/appdesigner/appdesigner:/usr/local/MATLAB/R2021a/toolbox/shared/polyspace/configure_mi:/usr/local/MATLAB/R2021a/examples/signal/data:/usr/local/MATLAB/R2021a/toolbox/shared/io/general:/usr/local/MATLAB/R2021a/toolbox/matlab/toolstrip:/usr/local/MATLAB/R2021a/toolbox/matlab/registration_framework/matlab:/usr/local/MATLAB/R2021a/toolbox/matlab/updateinstaller:/usr/local/MATLAB/R2021a/toolbox/matlab/addons_product:/usr/local/MATLAB/R2021a/toolbox/shared/mldatx:/usr/local/MATLAB/R2021a/toolbox/shared/simulink:/usr/local/MATLAB/R2021a/toolbox/shared/dsp/scopes:/usr/local/MATLAB/R2021a/toolbox/shared/spcuilib/slwebscopes:/usr/local/MATLAB/R2021a/examples/labelers_shared/data:/usr/local/MATLAB/R2021a/toolbox/shared/hotpluglib:/usr/local/MATLAB/R2021a/toolbox/matlab/bluetooth:/usr/local/MATLAB/R2021a/toolbox/shared/hwmanager/hwmanagerapp:/usr/local/MATLAB/R2021a/toolbox/shared/hwmanager/hwmanagerapp/devicedetection:/usr/local/MATLAB/R2021a/toolbox/shared/hwmanager/hwmanagerapp/devices:/usr/local/MATLAB/R2021a/toolbox/shared/hwmanager/hwmanagerapp/providers:/usr/local/MATLAB/R2021a/toolbox/shared/hwmanager/hwmanagerapp/plugins:/usr/local/MATLAB/R2021a/toolbox/shared/hwmanager/hwmanagerapp/hwsetup:/usr/local/MATLAB/R2021a/toolbox/shared/sl_async_streaming:/usr/local/MATLAB/R2021a/toolbox/matlab/datatools/editorconverters/matlab:/usr/local/MATLAB/R2021a/toolbox/matlab/helptools_js/matlab_colon_docservice/m:/usr/local/MATLAB/R2021a/toolbox/shared/dspblks/dspblks:/usr/local/MATLAB/R2021a/toolbox/shared/dspblks/dspmex:/usr/local/MATLAB/R2021a/toolbox/shared/mlreportgen/xml/xml/help:/usr/local/MATLAB/R2021a/toolbox/shared/siglib:/usr/local/MATLAB/R2021a/toolbox/rtw/rtw:/usr/local/MATLAB/R2021a/toolbox/coder/foundation:/usr/local/MATLAB/R2021a/toolbox/coder/foundation/build/tools/registry:/usr/local/MATLAB/R2021a/toolbox/coder/foundation/tfl:/usr/local/MATLAB/R2021a/toolbox/coder/foundation/tfl/AUTOSAR/AUTOSAR4p0/IFX:/usr/local/MATLAB/R2021a/toolbox/coder/foundation/tfl/AUTOSAR/AUTOSAR4p0/IFL:/usr/local/MATLAB/R2021a/toolbox/coder/foundation/tfl/gui:/usr/local/MATLAB/R2021a/toolbox/coder/foundation/templates:/usr/local/MATLAB/R2021a/toolbox/shared/simtargets:/usr/local/MATLAB/R2021a/toolbox/shared/hadoopserializer:/usr/local/MATLAB/R2021a/toolbox/shared/controllib/general:/usr/local/MATLAB/R2021a/toolbox/shared/asynciolib:/usr/local/MATLAB/R2021a/toolbox/shared/dsp/webscopes/dspwebscopesutils:/usr/local/MATLAB/R2021a/toolbox/shared/multimedia:/usr/local/MATLAB/R2021a/toolbox/shared/dsp/webscopes/slarrayplot:/usr/local/MATLAB/R2021a/toolbox/matlab/datatools/media_widgets/matlab:/usr/local/MATLAB/R2021a/toolbox/matlab/preferences/workspaceprefpanel/workspaceprefpanel-ui:/usr/local/MATLAB/R2021a/toolbox/matlab/appdesigner/appdesigner/runtime:/usr/local/MATLAB/R2021a/toolbox/signal/signal:/usr/local/MATLAB/R2021a/toolbox/signal/sigtools:/usr/local/MATLAB/R2021a/toolbox/signal/sptoolgui:/usr/local/MATLAB/R2021a/toolbox/matlab/appdesigner/comparison:/usr/local/MATLAB/R2021a/ui/mw-webwindow/mw-webwindow-m:/usr/local/MATLAB/R2021a/toolbox/shared/comparisons:/usr/local/MATLAB/R2021a/examples/dsp_nav_fusion/data:/usr/local/MATLAB/R2021a/toolbox/matlab/toolboxmanagement/matlab_api:/usr/local/MATLAB/R2021a/toolbox/shared/slcc_cov/slcc_cov:/usr/local/MATLAB/R2021a/toolbox/matlab/embeddedoutputs/variableoutputs:/usr/local/MATLAB/R2021a/toolbox/dsp/templates:/usr/local/MATLAB/R2021a/toolbox/matlab/helptools/reference:/usr/local/MATLAB/R2021a/toolbox/audio/audioapps/audioapps:/usr/local/MATLAB/R2021a/toolbox/audio/audioapps/audioapputils:/usr/local/MATLAB/R2021a/toolbox/audio/audioapps/audiolabeler:/usr/local/MATLAB/R2021a/toolbox/coder/codedescriptor_core:/usr/local/MATLAB/R2021a/toolbox/coder/connectivity:/usr/local/MATLAB/R2021a/toolbox/rtw/targets/connectivity:/usr/local/MATLAB/R2021a/toolbox/shared/measure:/usr/local/MATLAB/R2021a/toolbox/shared/configset:/usr/local/MATLAB/R2021a/toolbox/matlab/external/interfaces/webservices/restful:/usr/local/MATLAB/R2021a/toolbox/matlab/external/interfaces/webservices:/usr/local/MATLAB/R2021a/toolbox/matlab/uitools/uicomponents/components:/usr/local/MATLAB/R2021a/toolbox/shared/mlarrow:/usr/local/MATLAB/R2021a/toolbox/matlab/cefclient:/usr/local/MATLAB/R2021a/toolbox/coder/profile:/usr/local/MATLAB/R2021a/toolbox/shared/cxxfe/parser_mi/parser_mi:/usr/local/MATLAB/R2021a/toolbox/shared/images_datatypes:/usr/local/MATLAB/R2021a/toolbox/matlab/project/views/action_web/project-action-ui/matlab:/usr/local/MATLAB/R2021a/toolbox/matlab/uicomponents/uicomponents:/usr/local/MATLAB/R2021a/toolbox/matlab/uicomponents/uicomponents/graphics:/usr/local/MATLAB/R2021a/toolbox/matlab/uicomponents/uicomponents/style:/usr/local/MATLAB/R2021a/toolbox/eml/eml:/usr/local/MATLAB/R2021a/toolbox/shared/mlreportgen/fop:/usr/local/MATLAB/R2021a/toolbox/shared/cgxe/cgxe:/usr/local/MATLAB/R2021a/toolbox/dsp/dspdemos:/usr/local/MATLAB/R2021a/toolbox/matlab/addon_updates/matlab:/usr/local/MATLAB/R2021a/toolbox/shared/dsp/dialog:/usr/local/MATLAB/R2021a/toolbox/matlab/system/editor:/usr/local/MATLAB/R2021a/toolbox/shared/coder/coder:/usr/local/MATLAB/R2021a/toolbox/shared/coder/coder/gpucoder:/usr/local/MATLAB/R2021a/toolbox/shared/coder/reportinfo:/usr/local/MATLAB/R2021a/toolbox/matlab/addons_common/matlab:/usr/local/MATLAB/R2021a/toolbox/matlab/connector2/session:/usr/local/MATLAB/R2021a/toolbox/matlab/connector2/http:/usr/local/MATLAB/R2021a/toolbox/shared/hwmanager/hwservices/hwinfo:/usr/local/MATLAB/R2021a/toolbox/coder/foundation/passmanager:/usr/local/MATLAB/R2021a/toolbox/targetframework/matlab:/usr/local/MATLAB/R2021a/toolbox/matlab/networklib:/usr/local/MATLAB/R2021a/toolbox/matlab/embeddedoutputs/outpututilities:/usr/local/MATLAB/R2021a/toolbox/matlab/embeddedoutputs/outputs:/usr/local/MATLAB/R2021a/toolbox/matlab/dependency/app:/usr/local/MATLAB/R2021a/toolbox/matlab/webcam:/usr/local/MATLAB/R2021a/toolbox/shared/spcuilib/applications:/usr/local/MATLAB/R2021a/toolbox/shared/diagnostic:/usr/local/MATLAB/R2021a/toolbox/shared/matlab/testframework/baselines_sdi:/usr/local/MATLAB/R2021a/toolbox/matlab/external/engines/engine_api:/usr/local/MATLAB/R2021a/toolbox/shared/fusion/utils:/usr/local/MATLAB/R2021a/toolbox/matlab/addons:/usr/local/MATLAB/R2021a/toolbox/matlab/addons/cef:/usr/local/MATLAB/R2021a/toolbox/matlab/addons/fileexchange:/usr/local/MATLAB/R2021a/toolbox/matlab/addons/supportpackages:/usr/local/MATLAB/R2021a/toolbox/matlab/reports:/usr/local/MATLAB/R2021a/toolbox/shared/spreadsheet:/usr/local/MATLAB/R2021a/toolbox/matlab/rtc_addons/rtclanguagesupport/rtc_xml_language_support/matlab:/usr/local/MATLAB/R2021a/toolbox/shared/system/simulink_block:/usr/local/MATLAB/R2021a/toolbox/shared/testmeaslib/general:/usr/local/MATLAB/R2021a/toolbox/shared/hwmanager/logger:/usr/local/MATLAB/R2021a/toolbox/matlab/addressbar_plugins/browse_for_folder_button/matlab:/usr/local/MATLAB/R2021a/toolbox/matlab/addressbar_plugins/cd_up_one_dir_button/matlab:/usr/local/MATLAB/R2021a/toolbox/coder/trace:/usr/local/MATLAB/R2021a/toolbox/shared/blelib:/usr/local/MATLAB/R2021a/toolbox/shared/spcuilib/matrixviewer:/usr/local/MATLAB/R2021a/toolbox/coder/rtiostream:/usr/local/MATLAB/R2021a/toolbox/shared/sdi:/usr/local/MATLAB/R2021a/toolbox/matlab/appdesigner/appdesigner/interface:/usr/local/MATLAB/R2021a/toolbox/shared/sdi_visuals:/usr/local/MATLAB/R2021a/toolbox/matlab/appdesigner/matlab_integration/cfb/cfb:/usr/local/MATLAB/R2021a/toolbox/matlab/findfiles/m:/usr/local/MATLAB/R2021a/toolbox/shared/sigwebappsutils/src:/usr/local/MATLAB/R2021a/toolbox/shared/codergui/codergui:/usr/local/MATLAB/R2021a/toolbox/coder/compile:/usr/local/MATLAB/R2021a/toolbox/coder/compile/tools/registry:/usr/local/MATLAB/R2021a/toolbox/coder/compile/codebuildtests:/usr/local/MATLAB/R2021a/toolbox/shared/appdes/services:/usr/local/MATLAB/R2021a/toolbox/shared/instrument:/usr/local/MATLAB/R2021a/toolbox/audio/audio:/usr/local/MATLAB/R2021a/toolbox/audio/samples:/usr/local/MATLAB/R2021a/toolbox/audio/audioutilities:/usr/local/MATLAB/R2021a/toolbox/audio/audioutilities/audioinit:/usr/local/MATLAB/R2021a/toolbox/audio/audioutilities/audiomex:/usr/local/MATLAB/R2021a/toolbox/audio/audio/compiled:/usr/local/MATLAB/R2021a/toolbox/audio/audioexamples:/usr/local/MATLAB/R2021a/examples/coder_compiler_dsp/data:/usr/local/MATLAB/R2021a/examples/graphics/data:/usr/local/MATLAB/R2021a/toolbox/matlab/imagesci:/usr/local/MATLAB/R2021a/toolbox/matlab/datatools/importtool/matlab/peer:/usr/local/MATLAB/R2021a/toolbox/da:/usr/local/MATLAB/R2021a/toolbox/matlab/uicomponents/uicomponents/uicontrol:/usr/local/MATLAB/R2021a/toolbox/matlab/external/interfaces/json:/usr/local/MATLAB/R2021a/toolbox/coder/coderapp/common/ml:/usr/local/MATLAB/R2021a/toolbox/comparisons/view/edits:/usr/local/MATLAB/R2021a/toolbox/matlab/external/mex:/usr/local/MATLAB/R2021a/toolbox/shared/spcuilib/unifiedscopes:/usr/local/MATLAB/R2021a/toolbox/matlab/richcontent_preview/matlab:/usr/local/MATLAB/R2021a/toolbox/signal/sigappsshared:/usr/local/MATLAB/R2021a/toolbox/matlab/system:/usr/local/MATLAB/R2021a/toolbox/matlab/supportpackagemanagement:/usr/local/MATLAB/R2021a/toolbox/shared/mlreportgen/xml_xpath/xml_xpath/help:/usr/local/MATLAB/R2021a/help/toolbox/dsp/examples:/usr/local/MATLAB/R2021a/toolbox/matlab/connector2/configuration:/usr/local/MATLAB/R2021a/toolbox/shared/configset_view/m:/usr/local/MATLAB/R2021a/examples/dsp_hdlcoder/data:/usr/local/MATLAB/R2021a/toolbox/matlab/connector2/common:/usr/local/MATLAB/R2021a/toolbox/shared/transportclients:/usr/local/MATLAB/R2021a/toolbox/shared/supportsoftware/launcher:/usr/local/MATLAB/R2021a/toolbox/shared/supportsoftware/services:/usr/local/MATLAB/R2021a/toolbox/shared/supportsoftware/upgrade:/usr/local/MATLAB/R2021a/toolbox/shared/dsp/vision/matlab/utilities:/usr/local/MATLAB/R2021a/toolbox/shared/dsp/vision/simulink/utilities:/usr/local/MATLAB/R2021a/toolbox/shared/dsp/vision/matlab/utilities/mex:/usr/local/MATLAB/R2021a/toolbox/shared/dsp/vision/simulink/utilities/mex:/usr/local/MATLAB/R2021a/toolbox/shared/dsp/vision/matlab/utilities/init:/usr/local/MATLAB/R2021a/toolbox/shared/dsp/vision/matlab/vision:/usr/local/MATLAB/R2021a/toolbox/shared/dsp/vision/simulink/vision:/usr/local/MATLAB/R2021a/toolbox/matlab/mex:/usr/local/MATLAB/R2021a/toolbox/shared/spcuilib/logicanalyzer:/usr/local/MATLAB/R2021a/toolbox/matlab/profileviewer:/usr/local/MATLAB/R2021a/toolbox/shared/dsp/webscopes/mltimescope:/usr/local/MATLAB/R2021a/toolbox/shared/rptgen:/usr/local/MATLAB/R2021a/examples/shared_sdi/data:/usr/local/MATLAB/R2021a/toolbox/shared/hwmanager/hwmanagerapp/devicedata:/usr/local/MATLAB/R2021a/examples/predmaint_shared/data:/usr/local/MATLAB/R2021a/toolbox/shared/seriallib:/usr/local/MATLAB/R2021a/toolbox/matlab/datatools/datatoolsservices/matlab:/usr/local/MATLAB/R2021a/toolbox/matlab/storage/mldrivedesktop:/usr/local/MATLAB/R2021a/toolbox/matlab/connector2/mgg:/usr/local/MATLAB/R2021a/toolbox/shared/spc/src_ml:/usr/local/MATLAB/R2021a/toolbox/matlab/rtc_addons/rtclanguagesupport/rtc_js_language_support/matlab:/usr/local/MATLAB/R2021a/toolbox/shared/hwconnectinstaller/common:/usr/local/MATLAB/R2021a/toolbox/matlab/datatools/inspector/matlab:/usr/local/MATLAB/R2021a/toolbox/matlab/serial:/usr/local/MATLAB/R2021a/toolbox/matlab/datatools/plotstab/matlab:/usr/local/MATLAB/R2021a/toolbox/matlab/external/interfaces/java/jmi:/usr/local/MATLAB/R2021a/toolbox/matlab/apps:/usr/local/MATLAB/R2021a/toolbox/matlab/rtc_addons/rtclanguagesupport/rtc_tlc_language_support/matlab:/usr/local/MATLAB/R2021a/toolbox/matlab/connector2/connector:/usr/local/MATLAB/R2021a/toolbox/signal/edffileanalyzer/src:/usr/local/MATLAB/R2021a/toolbox/matlab/dependency/report:/usr/local/MATLAB/R2021a/toolbox/targetframework/model/foundation/matlab:/usr/local/MATLAB/R2021a/toolbox/shared/testmeaslib/graphics:/usr/local/MATLAB/R2021a/toolbox/shared/system/sfun:/usr/local/MATLAB/R2021a/toolbox/physmod/simscape/language_editor/m:/usr/local/MATLAB/R2021a/toolbox/shared/transportlib:/usr/local/MATLAB/R2021a/toolbox/matlab/uicomponents/uicomponents/databrowser:/usr/local/MATLAB/R2021a/toolbox/targetframework/model/target/matlab:/usr/local/MATLAB/R2021a/toolbox/matlab/toolbox_packaging:/usr/local/MATLAB/R2021a/toolbox/matlab/dependency/attribute:/usr/local/MATLAB/R2021a/toolbox/matlab/debugger:/usr/local/MATLAB/R2021a/toolbox/matlab/addon_enable_disable_management/matlab:/usr/local/MATLAB/R2021a/toolbox/matlab/storage/matlabdrive:/usr/local/MATLAB/R2021a/toolbox/matlab/preferences/variablesprefpanel/variablesprefpanel-ui:/usr/local/MATLAB/R2021a/toolbox/matlab/ddux:/usr/local/MATLAB/R2021a/toolbox/classdiagram/app/mcos:/usr/local/MATLAB/R2021a/toolbox/coder/coderapp/config/ml:/usr/local/MATLAB/R2021a/toolbox/shared/cxxfe_mi/cxxfe_mi:/usr/local/MATLAB/R2021a/toolbox/stats/builtins:/usr/local/MATLAB/R2021a/examples/stats/data:/usr/local/MATLAB/R2021a/toolbox/stats/distributed:/usr/local/MATLAB/R2021a/toolbox/stats/gpu:/usr/local/MATLAB/R2021a/toolbox/stats/blocks:/usr/local/MATLAB/R2021a/toolbox/stats/blocks/classregblks:/usr/local/MATLAB/R2021a/toolbox/shared/mlearnlib:/usr/local/MATLAB/R2021a/toolbox/stats/mlearnapps:/usr/local/MATLAB/R2021a/toolbox/shared/statslib:/usr/local/MATLAB/R2021a/toolbox/shared/statslib/sensitivity:/usr/local/MATLAB/R2021a/toolbox/shared/optimlib:/usr/local/MATLAB/R2021a/toolbox/stats/bayesoptim:/usr/local/MATLAB/R2021a/toolbox/stats/bigdata:/usr/local/MATLAB/R2021a/toolbox/stats/classreg:/usr/local/MATLAB/R2021a/toolbox/stats/clustering:/usr/local/MATLAB/R2021a/toolbox/stats/featlearn:/usr/local/MATLAB/R2021a/toolbox/stats/incremental:/usr/local/MATLAB/R2021a/toolbox/stats/stats:/usr/local/MATLAB/R2021a/toolbox/stats/semisupervised:/usr/local/MATLAB/R2021a/toolbox/shared/pegparserlib/pegparser:/usr/local/MATLAB/R2021a/toolbox/stats/statsdemos'"
      ]
     },
     "execution_count": 6,
     "metadata": {},
     "output_type": "execute_result"
    }
   ],
   "source": [
    "eng.addpath(\"../nonparametric-ica\") \n"
   ]
  },
  {
   "cell_type": "code",
   "execution_count": 34,
   "metadata": {},
   "outputs": [],
   "source": [
    "R_matlab,W_matlab,_,__ = eng.nonparametric_ica(matlab.double(X.tolist()),3, 10,False,2,nargout=4)"
   ]
  },
  {
   "cell_type": "code",
   "execution_count": 8,
   "metadata": {},
   "outputs": [],
   "source": [
    "R_matlab = np.array(R_matlab)"
   ]
  },
  {
   "cell_type": "code",
   "execution_count": 9,
   "metadata": {},
   "outputs": [
    {
     "data": {
      "text/plain": [
       "(100, 3)"
      ]
     },
     "execution_count": 9,
     "metadata": {},
     "output_type": "execute_result"
    }
   ],
   "source": [
    "R_matlab.shape"
   ]
  },
  {
   "cell_type": "code",
   "execution_count": 24,
   "metadata": {},
   "outputs": [
    {
     "data": {
      "text/plain": [
       "(3, 10000)"
      ]
     },
     "execution_count": 24,
     "metadata": {},
     "output_type": "execute_result"
    }
   ],
   "source": [
    "Wpca.shape"
   ]
  },
  {
   "cell_type": "code",
   "execution_count": 25,
   "metadata": {},
   "outputs": [
    {
     "data": {
      "text/plain": [
       "array([[-0.00078158, -0.00916079, -0.0036653 ,  0.06007747, -0.00654374,\n",
       "         0.02458953, -0.00662317, -0.0008707 , -0.00750405, -0.00222164],\n",
       "       [-0.00502404, -0.00377478, -0.00692283,  0.01389421,  0.00506755,\n",
       "        -0.00011603, -0.00128237, -0.00930677, -0.00772332, -0.008113  ],\n",
       "       [-0.00189949,  0.00523797,  0.00642472, -0.00197286, -0.00865389,\n",
       "         0.00992196, -0.00411213,  0.00242879,  0.00900776, -0.04763931]])"
      ]
     },
     "execution_count": 25,
     "metadata": {},
     "output_type": "execute_result"
    }
   ],
   "source": [
    "ica = ICA(K)\n",
    "ica.maximize_negentropy_via_rotation(Wpca)[0][:,range(10)]"
   ]
  },
  {
   "cell_type": "code",
   "execution_count": 26,
   "metadata": {},
   "outputs": [
    {
     "data": {
      "text/plain": [
       "array([[-0.0018063 ,  0.00530377,  0.00655064, -0.00220861, -0.00874869,\n",
       "         0.00993119, -0.00409002,  0.00260059,  0.00914671, -0.04748151],\n",
       "       [ 0.00069872,  0.00910179,  0.00355674, -0.05984545,  0.00661939,\n",
       "        -0.02458164,  0.00659879,  0.0007212 ,  0.0073837 ,  0.00205837],\n",
       "       [ 0.0050704 ,  0.00382527,  0.00686118, -0.01482861, -0.00479943,\n",
       "        -0.000467  ,  0.00146569,  0.00927307,  0.00767587,  0.00902936]])"
      ]
     },
     "execution_count": 26,
     "metadata": {},
     "output_type": "execute_result"
    }
   ],
   "source": [
    "np.array(eng.maximize_negentropy_via_rotation(matlab.double(Wpca.tolist()),10,2,False,nargout=4)[0])[:,range(10)]"
   ]
  },
  {
   "cell_type": "code",
   "execution_count": 13,
   "metadata": {},
   "outputs": [
    {
     "data": {
      "text/plain": [
       "(1.218201697408917,\n",
       " 0.0,\n",
       " 0.00792588842451368,\n",
       " [-0.10638193054750361, 10.284651209428379, 100])"
      ]
     },
     "execution_count": 13,
     "metadata": {},
     "output_type": "execute_result"
    }
   ],
   "source": [
    "ica.entropy(X[0,:])"
   ]
  },
  {
   "cell_type": "code",
   "execution_count": 14,
   "metadata": {},
   "outputs": [
    {
     "data": {
      "text/plain": [
       "True"
      ]
     },
     "execution_count": 14,
     "metadata": {},
     "output_type": "execute_result"
    }
   ],
   "source": [
    "np.allclose(np.array(eng.histogram(matlab.double(X[0,:].tolist()),nargout=3)[0][0]).astype(int),\n",
    "            ica.histogram(X[0,:])[0])"
   ]
  },
  {
   "cell_type": "code",
   "execution_count": 15,
   "metadata": {},
   "outputs": [
    {
     "data": {
      "text/plain": [
       "array([[ 1.28576262,  0.92342362,  0.42856649],\n",
       "       [ 0.29103674,  1.50699473,  0.94674937],\n",
       "       [ 0.76299099,  0.28001005,  0.85752315],\n",
       "       [ 1.30315163,  0.68147636,  0.49805467],\n",
       "       [ 0.1190624 ,  1.56487608,  0.05379937],\n",
       "       [ 0.10822291,  0.31118318,  1.08501485],\n",
       "       [ 1.71512967,  1.30735282,  0.08520068],\n",
       "       [ 0.57841062,  1.10777141,  1.73713082],\n",
       "       [ 0.98662577,  0.1526063 ,  0.14093332],\n",
       "       [ 0.72680083,  0.22248389,  1.27137392],\n",
       "       [ 1.7385385 ,  1.57355491,  1.74608055],\n",
       "       [ 0.36115041,  1.61544365,  0.167071  ],\n",
       "       [ 1.52590618,  1.48029618,  0.79544756],\n",
       "       [ 1.33871663,  1.47682025,  0.48819721],\n",
       "       [ 1.33565198,  0.82100658,  0.10654395],\n",
       "       [ 1.22720026,  0.17393558,  0.48807994],\n",
       "       [ 1.2303919 ,  0.3098257 ,  0.42859799],\n",
       "       [ 1.40122712,  1.33298982,  0.16853388],\n",
       "       [ 0.32985354,  0.40021301,  1.40017216],\n",
       "       [ 0.14284864,  0.60623209,  0.72031429],\n",
       "       [ 1.23465786,  0.45020902,  1.62065547],\n",
       "       [ 1.72038797,  0.95134031,  0.19555572],\n",
       "       [ 1.5823849 ,  0.88858677,  0.91165747],\n",
       "       [ 0.47170429,  1.28187812,  1.75793097],\n",
       "       [ 1.18558613,  0.00883314,  0.6226196 ],\n",
       "       [ 0.83488667,  1.39326623,  0.96254452],\n",
       "       [ 0.27379792,  0.566136  ,  0.67223117],\n",
       "       [ 1.7039159 ,  0.58273008,  0.22382669],\n",
       "       [ 0.50671205,  0.69590366,  1.69467091],\n",
       "       [ 0.59681101,  0.0128974 ,  0.04689055],\n",
       "       [ 1.31218705,  0.8166349 ,  0.53509463],\n",
       "       [ 1.29162352,  0.64619437,  0.76428438],\n",
       "       [ 0.61355042,  1.30621217,  0.54407789],\n",
       "       [ 0.27388129,  1.62170035,  0.80131762],\n",
       "       [ 1.09406905,  1.11758066,  0.98224992],\n",
       "       [ 0.82375934,  0.67120114,  1.59538481],\n",
       "       [ 1.45375896,  0.64306294,  0.79990476],\n",
       "       [ 1.59505492,  0.37945942,  0.12620123],\n",
       "       [ 0.12133017,  0.70768236,  0.98871409],\n",
       "       [ 0.58273881,  0.72903942,  0.48220047],\n",
       "       [ 0.50832364,  1.18253375,  0.17271424],\n",
       "       [ 1.65596017,  0.16739868,  1.00239629],\n",
       "       [ 0.73225652,  1.66253202,  1.74511094],\n",
       "       [ 1.7470199 ,  1.40188453,  0.16244318],\n",
       "       [ 0.07403915,  1.03179341,  1.66973306],\n",
       "       [ 0.99950809,  0.33582409,  0.54317307],\n",
       "       [ 1.18369653,  1.11079088,  0.62877494],\n",
       "       [ 0.68938373,  1.47164453,  1.30070665],\n",
       "       [ 1.72837803,  1.2039663 ,  1.75164532],\n",
       "       [ 0.97528504,  1.05529932,  1.44085985],\n",
       "       [ 1.30278633,  1.41253167,  0.69263812],\n",
       "       [ 0.63173645,  0.84850486,  0.29019488],\n",
       "       [ 0.11181668,  0.33885979,  0.80304141],\n",
       "       [ 0.17223515,  0.30619788,  0.78776479],\n",
       "       [ 1.16708188,  0.6230863 ,  1.1090718 ],\n",
       "       [ 0.14264446,  1.0117759 ,  0.13763015],\n",
       "       [ 1.20414893,  1.59722686, -0.02451873],\n",
       "       [ 0.15460152,  0.84959637,  0.24928844],\n",
       "       [ 0.72753155,  1.05253003,  0.11022641],\n",
       "       [ 1.1752668 ,  0.89762311,  0.02952153],\n",
       "       [ 0.79702327,  1.34981268,  1.17818943],\n",
       "       [ 1.73388397,  0.48079042,  1.54121142],\n",
       "       [ 0.4643274 ,  1.41611069,  1.80907366],\n",
       "       [ 1.12149954,  1.51257545,  1.2053648 ],\n",
       "       [ 0.27421911,  0.16094163,  0.279238  ],\n",
       "       [ 0.31795059,  0.37063648,  1.16228531],\n",
       "       [ 1.12489186,  1.23888778,  1.02431951],\n",
       "       [ 0.25172925,  0.71590216,  1.36832275],\n",
       "       [ 1.08327619,  0.18251729,  1.68845178],\n",
       "       [ 0.51150679,  0.55228051,  1.5682991 ],\n",
       "       [ 1.57537144,  1.23029767,  0.15297652],\n",
       "       [ 1.10460771,  0.08938935,  0.2388114 ],\n",
       "       [ 0.52027029,  0.20147751,  0.2445244 ],\n",
       "       [ 0.11175534,  1.23624915,  0.48086014],\n",
       "       [ 0.91499292,  0.69479395,  0.31546712],\n",
       "       [ 0.37205179,  1.14996797,  1.11186427],\n",
       "       [ 0.16696804,  0.31799065,  0.48248952],\n",
       "       [ 0.87905961,  1.18282826,  1.22170747],\n",
       "       [ 0.51080185,  0.07333719,  1.22104631],\n",
       "       [ 1.4828915 ,  1.43028121,  1.67103537],\n",
       "       [ 1.14479778,  1.59815055,  1.5475687 ],\n",
       "       [ 0.61099883,  1.57847634,  1.75720956],\n",
       "       [ 1.42754116,  0.30341706,  1.81664363],\n",
       "       [ 0.30022155,  1.16030459,  0.47195347],\n",
       "       [ 1.26844843,  1.58346295,  0.02287687],\n",
       "       [ 0.35869962,  0.50738683,  0.76842683],\n",
       "       [ 0.40806634,  0.45061668,  1.73903379],\n",
       "       [ 0.61921354,  1.07411656,  1.61009078],\n",
       "       [ 1.11701584,  0.77434556,  0.52586606],\n",
       "       [ 0.40137205,  1.54051885,  0.37441666],\n",
       "       [ 1.01394806,  1.1168678 ,  0.08877475],\n",
       "       [ 1.5924141 ,  0.75089023,  1.2740672 ],\n",
       "       [ 0.34595662,  0.75239582,  0.94077074],\n",
       "       [ 0.77657017,  0.89379752,  0.4628133 ],\n",
       "       [ 0.55701423,  1.58918577,  0.13211976],\n",
       "       [ 0.73718608,  0.52495767,  1.70289656],\n",
       "       [ 0.25785843,  1.49950952,  0.14819185],\n",
       "       [ 1.64596692,  0.74391584,  0.33846319],\n",
       "       [ 1.16443126,  0.43250346,  0.46948947],\n",
       "       [ 0.06519813,  0.41764814,  1.29223094]])"
      ]
     },
     "execution_count": 15,
     "metadata": {},
     "output_type": "execute_result"
    }
   ],
   "source": [
    "R_python"
   ]
  },
  {
   "cell_type": "code",
   "execution_count": 29,
   "metadata": {},
   "outputs": [
    {
     "data": {
      "text/plain": [
       "array([0.28785063, 0.36593732, 0.18096381, 1.42835387, 0.8813257 ,\n",
       "       0.59576157, 0.50721867, 0.03655642, 0.13450016, 0.06637848])"
      ]
     },
     "execution_count": 29,
     "metadata": {},
     "output_type": "execute_result"
    }
   ],
   "source": [
    "np.array(W_matlab)[0,range(10)]"
   ]
  },
  {
   "cell_type": "code",
   "execution_count": 36,
   "metadata": {},
   "outputs": [
    {
     "data": {
      "text/plain": [
       "array([[0.65571156, 0.26457979, 0.19598837, 0.67784311, 1.03761876,\n",
       "        0.0100209 , 0.78134113, 0.41328425, 0.05317618, 3.16834752],\n",
       "       [0.51399506, 0.0456027 , 0.35468727, 3.88876507, 0.18397336,\n",
       "        1.9231381 , 0.1851219 , 0.51274194, 0.14137011, 0.43820737],\n",
       "       [0.29269521, 0.3671918 , 0.1855523 , 1.48325937, 0.88321032,\n",
       "        0.62399938, 0.50836614, 0.04124796, 0.13680909, 0.05582913]])"
      ]
     },
     "execution_count": 36,
     "metadata": {},
     "output_type": "execute_result"
    }
   ],
   "source": [
    "np.array(W_matlab)[:,range(10)]"
   ]
  },
  {
   "cell_type": "code",
   "execution_count": 31,
   "metadata": {},
   "outputs": [
    {
     "data": {
      "text/plain": [
       "array([0.29702357, 0.3718043 , 0.18336195, 1.42946696, 0.90110428,\n",
       "       0.59081621, 0.52099916, 0.04066004, 0.1354449 , 0.11211877])"
      ]
     },
     "execution_count": 31,
     "metadata": {},
     "output_type": "execute_result"
    }
   ],
   "source": [
    "W_python[1,range(10)]"
   ]
  },
  {
   "cell_type": "code",
   "execution_count": 16,
   "metadata": {},
   "outputs": [
    {
     "data": {
      "text/plain": [
       "array([[ 0.92857645,  0.4290843 ,  1.28235426],\n",
       "       [ 1.50520563,  0.96234016,  0.29171918],\n",
       "       [ 0.27394223,  0.8508455 ,  0.76706459],\n",
       "       [ 0.6843991 ,  0.49442534,  1.30130374],\n",
       "       [ 1.57391796,  0.07612933,  0.11256383],\n",
       "       [ 0.29988076,  1.08347927,  0.11555889],\n",
       "       [ 1.32075563,  0.08940125,  1.70626503],\n",
       "       [ 1.09487063,  1.74030622,  0.58661586],\n",
       "       [ 0.15562491,  0.13384559,  0.98483386],\n",
       "       [ 0.21075924,  1.26213189,  0.73460344],\n",
       "       [ 1.56785566,  1.74601109,  1.7421297 ],\n",
       "       [ 1.62431982,  0.18747704,  0.35480272],\n",
       "       [ 1.48509624,  0.80047342,  1.52258082],\n",
       "       [ 1.48470555,  0.49631829,  1.33331841],\n",
       "       [ 0.82977684,  0.10664176,  1.32991803],\n",
       "       [ 0.17368549,  0.47750138,  1.2276085 ],\n",
       "       [ 0.31113484,  0.4203339 ,  1.22972546],\n",
       "       [ 1.34426799,  0.1754864 ,  1.39366961],\n",
       "       [ 0.38636741,  1.39649149,  0.33888279],\n",
       "       [ 0.60136926,  0.7247062 ,  0.14585169],\n",
       "       [ 0.43745938,  1.60867164,  1.24317631],\n",
       "       [ 0.96128037,  0.19379392,  1.71393346],\n",
       "       [ 0.88865958,  0.90667945,  1.58240193],\n",
       "       [ 1.26932648,  1.76457729,  0.47958782],\n",
       "       [ 0.00576166,  0.60925893,  1.18789957],\n",
       "       [ 1.39274588,  0.97154054,  0.83491536],\n",
       "       [ 0.56215231,  0.6750957 ,  0.27627144],\n",
       "       [ 0.59007386,  0.21650356,  1.6993015 ],\n",
       "       [ 0.68081827,  1.69246316,  0.51648929],\n",
       "       [ 0.01473376,  0.0415901 ,  0.5957501 ],\n",
       "       [ 0.81992864,  0.53324726,  1.31004689],\n",
       "       [ 0.64553447,  0.75892771,  1.29213976],\n",
       "       [ 1.30953957,  0.55574916,  0.61102808],\n",
       "       [ 1.62234   ,  0.8195008 ,  0.27292063],\n",
       "       [ 1.11620398,  0.9846975 ,  1.09482926],\n",
       "       [ 0.65845775,  1.59048914,  0.83208708],\n",
       "       [ 0.64257662,  0.79289647,  1.4542032 ],\n",
       "       [ 0.38639479,  0.11724301,  1.59075781],\n",
       "       [ 0.6999784 ,  0.99352205,  0.12615627],\n",
       "       [ 0.729609  ,  0.48572478,  0.58223748],\n",
       "       [ 1.18936005,  0.18525342,  0.5035225 ],\n",
       "       [ 0.16236489,  0.98543129,  1.6596218 ],\n",
       "       [ 1.65341427,  1.75527125,  0.73780661],\n",
       "       [ 1.41500547,  0.1674145 ,  1.73831295],\n",
       "       [ 1.01730339,  1.6765399 ,  0.08318995],\n",
       "       [ 0.33494648,  0.53678162,  1.00021037],\n",
       "       [ 1.11414619,  0.63204969,  1.18137299],\n",
       "       [ 1.46678698,  1.31052474,  0.69219582],\n",
       "       [ 1.19597371,  1.74605459,  1.73361228],\n",
       "       [ 1.04735333,  1.44118222,  0.98035474],\n",
       "       [ 1.41733959,  0.69910977,  1.29942505],\n",
       "       [ 0.85237374,  0.29602639,  0.62903495],\n",
       "       [ 0.33126072,  0.80326493,  0.11671008],\n",
       "       [ 0.29883438,  0.787036  ,  0.17700128],\n",
       "       [ 0.61748911,  1.10278667,  1.17081919],\n",
       "       [ 1.01659417,  0.1509875 ,  0.13913458],\n",
       "       [ 1.61170534, -0.01089497,  1.19433984],\n",
       "       [ 0.85210725,  0.25954644,  0.15267156],\n",
       "       [ 1.06023134,  0.11917107,  0.72225963],\n",
       "       [ 0.90717856,  0.03256729,  1.16894777],\n",
       "       [ 1.34619037,  1.18581331,  0.79909673],\n",
       "       [ 0.47117761,  1.52567055,  1.74045587],\n",
       "       [ 1.40368372,  1.81756414,  0.47207672],\n",
       "       [ 1.5108508 ,  1.21245186,  1.12234684],\n",
       "       [ 0.15947925,  0.27789014,  0.27518852],\n",
       "       [ 0.35954377,  1.15942089,  0.32517931],\n",
       "       [ 1.23782304,  1.02812301,  1.12540932],\n",
       "       [ 0.70401297,  1.37025612,  0.25933481],\n",
       "       [ 0.16674305,  1.67342954,  1.09384424],\n",
       "       [ 0.53794545,  1.56449431,  0.52084625],\n",
       "       [ 1.24184825,  0.15691639,  1.56771743],\n",
       "       [ 0.09127446,  0.22925086,  1.103614  ],\n",
       "       [ 0.20165607,  0.24178648,  0.52020838],\n",
       "       [ 1.23798072,  0.49621063,  0.11018128],\n",
       "       [ 0.69855227,  0.31635346,  0.91249322],\n",
       "       [ 1.14432328,  1.12054222,  0.37542193],\n",
       "       [ 0.31449317,  0.48347148,  0.16918845],\n",
       "       [ 1.17799769,  1.22587266,  0.88201032],\n",
       "       [ 0.06051132,  1.21170218,  0.51932958],\n",
       "       [ 1.42366861,  1.67142278,  1.48707219],\n",
       "       [ 1.59274436,  1.55407716,  1.14803756],\n",
       "       [ 1.5682339 ,  1.76711117,  0.61728887],\n",
       "       [ 0.28810786,  1.79978569,  1.43784501],\n",
       "       [ 1.16243978,  0.48453665,  0.29845835],\n",
       "       [ 1.59752029,  0.03549449,  1.25893742],\n",
       "       [ 0.50218701,  0.76918618,  0.3620156 ],\n",
       "       [ 0.43313942,  1.73377478,  0.41948235],\n",
       "       [ 1.06276581,  1.61301606,  0.62642335],\n",
       "       [ 0.77673747,  0.52514714,  1.11543489],\n",
       "       [ 1.54651787,  0.39232636,  0.39695293],\n",
       "       [ 1.12634358,  0.09626816,  1.00755832],\n",
       "       [ 0.74565743,  1.26515607,  1.59597118],\n",
       "       [ 0.74643868,  0.94450524,  0.34967488],\n",
       "       [ 0.8963451 ,  0.46721058,  0.77475624],\n",
       "       [ 1.59911388,  0.15057067,  0.55003466],\n",
       "       [ 0.5096655 ,  1.69603205,  0.7472215 ],\n",
       "       [ 1.50753061,  0.1678498 ,  0.25209006],\n",
       "       [ 0.75055082,  0.33352866,  1.64174302],\n",
       "       [ 0.43376684,  0.46346188,  1.16373215],\n",
       "       [ 0.40421468,  1.29167482,  0.07388335]])"
      ]
     },
     "execution_count": 16,
     "metadata": {},
     "output_type": "execute_result"
    }
   ],
   "source": [
    "R_matlab"
   ]
  },
  {
   "cell_type": "code",
   "execution_count": 17,
   "metadata": {},
   "outputs": [],
   "source": [
    "import cProfile"
   ]
  },
  {
   "cell_type": "code",
   "execution_count": 20,
   "metadata": {},
   "outputs": [
    {
     "name": "stdout",
     "output_type": "stream",
     "text": [
      "         577771 function calls (545481 primitive calls) in 1.159 seconds\n",
      "\n",
      "   Ordered by: internal time\n",
      "\n",
      "   ncalls  tottime  percall  cumtime  percall filename:lineno(function)\n",
      "        1    0.264    0.264    1.132    1.132 nonparametric_ica_python.py:77(maximize_negentropy_via_rotation)\n",
      "    10731    0.210    0.000    0.549    0.000 nonparametric_ica_python.py:22(histogram)\n",
      "    10731    0.157    0.000    0.811    0.000 nonparametric_ica_python.py:50(entropy)\n",
      "    59094    0.131    0.000    0.131    0.000 {method 'reduce' of 'numpy.ufunc' objects}\n",
      "64851/32561    0.115    0.000    0.248    0.000 {built-in method numpy.core._multiarray_umath.implement_array_function}\n",
      "    10731    0.057    0.000    0.057    0.000 {method 'round' of 'numpy.ndarray' objects}\n",
      "    10784    0.052    0.000    0.052    0.000 {method 'astype' of 'numpy.ndarray' objects}\n",
      "        3    0.025    0.008    0.025    0.008 linalg.py:1482(svd)\n",
      "    16221    0.014    0.000    0.014    0.000 {built-in method numpy.array}\n",
      "     5350    0.013    0.000    0.037    0.000 _methods.py:162(_mean)\n",
      "     5350    0.011    0.000    0.012    0.000 _methods.py:66(_count_reduce_items)\n",
      "    10731    0.011    0.000    0.041    0.000 numeric.py:76(zeros_like)\n",
      "    32193    0.008    0.000    0.053    0.000 {method 'sum' of 'numpy.ndarray' objects}\n",
      "    10772    0.007    0.000    0.007    0.000 {built-in method numpy.zeros}\n",
      "    32193    0.005    0.000    0.045    0.000 _methods.py:46(_sum)\n",
      "    10731    0.005    0.000    0.094    0.000 <__array_function__ internals>:2(round_)\n",
      "    10731    0.005    0.000    0.068    0.000 fromnumeric.py:3220(around)\n",
      "    10731    0.005    0.000    0.051    0.000 <__array_function__ internals>:2(zeros_like)\n",
      "    10731    0.005    0.000    0.082    0.000 fromnumeric.py:3730(round_)\n",
      "    10731    0.005    0.000    0.078    0.000 <__array_function__ internals>:2(around)\n",
      "    10731    0.004    0.000    0.013    0.000 <__array_function__ internals>:2(empty_like)\n",
      "    10731    0.004    0.000    0.093    0.000 <__array_function__ internals>:2(bincount)\n",
      "    10783    0.004    0.000    0.011    0.000 <__array_function__ internals>:2(copyto)\n",
      "    10736    0.004    0.000    0.063    0.000 fromnumeric.py:51(_wrapfunc)\n",
      "    10731    0.004    0.000    0.060    0.000 {method 'min' of 'numpy.ndarray' objects}\n",
      "    10731    0.003    0.000    0.033    0.000 {method 'max' of 'numpy.ndarray' objects}\n",
      "    10731    0.002    0.000    0.002    0.000 {built-in method math.ceil}\n",
      "    10731    0.002    0.000    0.057    0.000 _methods.py:42(_amin)\n",
      "    10732    0.002    0.000    0.002    0.000 {built-in method math.sqrt}\n",
      "    21462    0.002    0.000    0.002    0.000 fromnumeric.py:3216(_around_dispatcher)\n",
      "    10731    0.002    0.000    0.030    0.000 _methods.py:38(_amax)\n",
      "     5350    0.002    0.000    0.039    0.000 {method 'mean' of 'numpy.ndarray' objects}\n",
      "    21563    0.002    0.000    0.002    0.000 {built-in method builtins.len}\n",
      "    10742    0.002    0.000    0.002    0.000 {built-in method builtins.getattr}\n",
      "        1    0.002    0.002    1.159    1.159 nonparametric_ica_python.py:140(nonparametric_ica)\n",
      "    10892    0.001    0.000    0.001    0.000 {built-in method builtins.issubclass}\n",
      "     5346    0.001    0.000    0.001    0.000 {built-in method builtins.hasattr}\n",
      "    10731    0.001    0.000    0.001    0.000 multiarray.py:883(bincount)\n",
      "    10783    0.001    0.000    0.001    0.000 multiarray.py:1071(copyto)\n",
      "     5458    0.001    0.000    0.001    0.000 {built-in method builtins.isinstance}\n",
      "    10731    0.001    0.000    0.001    0.000 numeric.py:72(_zeros_like_dispatcher)\n",
      "    10731    0.001    0.000    0.001    0.000 multiarray.py:80(empty_like)\n",
      "     5350    0.001    0.000    0.001    0.000 {built-in method numpy.core._multiarray_umath.normalize_axis_index}\n",
      "     5510    0.001    0.000    0.001    0.000 {built-in method numpy.asanyarray}\n",
      "       10    0.001    0.000    0.001    0.000 nonparametric_ica_python.py:37(random_rotation_matrix)\n",
      "       39    0.000    0.000    0.000    0.000 {method 'permutation' of 'numpy.random._generator.Generator' objects}\n",
      "       29    0.000    0.000    0.000    0.000 arraysetops.py:320(_unique1d)\n",
      "       89    0.000    0.000    0.000    0.000 fromnumeric.py:69(_wrapreduction)\n",
      "        4    0.000    0.000    0.000    0.000 {method 'repeat' of 'numpy.ndarray' objects}\n",
      "       30    0.000    0.000    0.000    0.000 index_tricks.py:35(ix_)\n",
      "       29    0.000    0.000    0.008    0.000 nonparametric_ica_python.py:125(<listcomp>)\n",
      "       88    0.000    0.000    0.000    0.000 {method 'argmax' of 'numpy.ndarray' objects}\n",
      "       40    0.000    0.000    0.000    0.000 twodim_base.py:161(eye)\n",
      "       87    0.000    0.000    0.000    0.000 fromnumeric.py:2268(any)\n",
      "       43    0.000    0.000    0.000    0.000 function_base.py:4762(append)\n",
      "       87    0.000    0.000    0.001    0.000 <__array_function__ internals>:2(any)\n",
      "        2    0.000    0.000    0.001    0.000 linalg.py:1915(pinv)\n",
      "       52    0.000    0.000    0.000    0.000 numeric.py:289(full)\n",
      "       81    0.000    0.000    0.000    0.000 {built-in method numpy.empty}\n",
      "       61    0.000    0.000    0.000    0.000 numerictypes.py:358(issubdtype)\n",
      "       10    0.000    0.000    0.000    0.000 {method 'random' of 'numpy.random._generator.Generator' objects}\n",
      "      122    0.000    0.000    0.000    0.000 numerictypes.py:284(issubclass_)\n",
      "       43    0.000    0.000    0.000    0.000 fromnumeric.py:1718(ravel)\n",
      "       29    0.000    0.000    0.000    0.000 arraysetops.py:138(unique)\n",
      "       89    0.000    0.000    0.000    0.000 fromnumeric.py:70(<dictcomp>)\n",
      "       10    0.000    0.000    0.002    0.000 nonparametric_ica_python.py:97(<listcomp>)\n",
      "       22    0.000    0.000    0.000    0.000 {built-in method numpy.arange}\n",
      "        1    0.000    0.000    0.000    0.000 function_base.py:23(linspace)\n",
      "       67    0.000    0.000    0.000    0.000 {method 'reshape' of 'numpy.ndarray' objects}\n",
      "       43    0.000    0.000    0.000    0.000 <__array_function__ internals>:2(concatenate)\n",
      "       29    0.000    0.000    0.000    0.000 {method 'sort' of 'numpy.ndarray' objects}\n",
      "       43    0.000    0.000    0.000    0.000 <__array_function__ internals>:2(where)\n",
      "       43    0.000    0.000    0.000    0.000 <__array_function__ internals>:2(append)\n",
      "       29    0.000    0.000    0.000    0.000 <__array_function__ internals>:2(unique)\n",
      "       40    0.000    0.000    0.000    0.000 <__array_function__ internals>:2(ndim)\n",
      "       30    0.000    0.000    0.000    0.000 <__array_function__ internals>:2(ix_)\n",
      "        1    0.000    0.000    1.159    1.159 {built-in method builtins.exec}\n",
      "       43    0.000    0.000    0.000    0.000 <__array_function__ internals>:2(ravel)\n",
      "       29    0.000    0.000    0.000    0.000 <__array_function__ internals>:2(may_share_memory)\n",
      "       59    0.000    0.000    0.000    0.000 {built-in method numpy.asarray}\n",
      "       43    0.000    0.000    0.000    0.000 {method 'ravel' of 'numpy.ndarray' objects}\n",
      "       29    0.000    0.000    0.000    0.000 {method 'flatten' of 'numpy.ndarray' objects}\n",
      "        1    0.000    0.000    0.000    0.000 twodim_base.py:234(diag)\n",
      "       89    0.000    0.000    0.000    0.000 {method 'items' of 'dict' objects}\n",
      "       11    0.000    0.000    0.000    0.000 <__array_function__ internals>:2(flipud)\n",
      "       11    0.000    0.000    0.000    0.000 twodim_base.py:101(flipud)\n",
      "       87    0.000    0.000    0.000    0.000 fromnumeric.py:2263(_any_dispatcher)\n",
      "       29    0.000    0.000    0.000    0.000 arraysetops.py:125(_unpack_tuple)\n",
      "        3    0.000    0.000    0.000    0.000 linalg.py:135(_commonType)\n",
      "       40    0.000    0.000    0.000    0.000 fromnumeric.py:3127(ndim)\n",
      "        6    0.000    0.000    0.000    0.000 linalg.py:125(_realType)\n",
      "        5    0.000    0.000    0.000    0.000 linalg.py:107(_makearray)\n",
      "        3    0.000    0.000    0.025    0.008 <__array_function__ internals>:2(svd)\n",
      "       43    0.000    0.000    0.000    0.000 multiarray.py:148(concatenate)\n",
      "       43    0.000    0.000    0.000    0.000 multiarray.py:341(where)\n",
      "        1    0.000    0.000    1.159    1.159 <string>:1(<module>)\n",
      "       60    0.000    0.000    0.000    0.000 {method 'append' of 'list' objects}\n",
      "       43    0.000    0.000    0.000    0.000 function_base.py:4758(_append_dispatcher)\n",
      "       40    0.000    0.000    0.000    0.000 fromnumeric.py:3123(_ndim_dispatcher)\n",
      "        2    0.000    0.000    0.000    0.000 matlib.py:328(repmat)\n",
      "       29    0.000    0.000    0.000    0.000 multiarray.py:1368(may_share_memory)\n",
      "       43    0.000    0.000    0.000    0.000 fromnumeric.py:1714(_ravel_dispatcher)\n",
      "       30    0.000    0.000    0.000    0.000 index_tricks.py:31(_ix__dispatcher)\n",
      "        1    0.000    0.000    0.000    0.000 {method 'any' of 'numpy.generic' objects}\n",
      "       29    0.000    0.000    0.000    0.000 arraysetops.py:133(_unique_dispatcher)\n",
      "        3    0.000    0.000    0.000    0.000 linalg.py:102(get_linalg_error_extobj)\n",
      "        1    0.000    0.000    0.000    0.000 <__array_function__ internals>:2(diag)\n",
      "        4    0.000    0.000    0.000    0.000 <__array_function__ internals>:2(swapaxes)\n",
      "        6    0.000    0.000    0.000    0.000 linalg.py:112(isComplexType)\n",
      "        2    0.000    0.000    0.001    0.000 <__array_function__ internals>:2(pinv)\n",
      "        1    0.000    0.000    0.000    0.000 <__array_function__ internals>:2(linspace)\n",
      "       11    0.000    0.000    0.000    0.000 twodim_base.py:43(_flip_dispatcher)\n",
      "        2    0.000    0.000    0.000    0.000 <__array_function__ internals>:2(amax)\n",
      "        2    0.000    0.000    0.000    0.000 fromnumeric.py:2638(amax)\n",
      "        1    0.000    0.000    0.000    0.000 <__array_function__ internals>:2(result_type)\n",
      "        4    0.000    0.000    0.000    0.000 linalg.py:215(transpose)\n",
      "        8    0.000    0.000    0.000    0.000 {method '__array_prepare__' of 'numpy.ndarray' objects}\n",
      "        6    0.000    0.000    0.000    0.000 {method 'get' of 'dict' objects}\n",
      "        3    0.000    0.000    0.000    0.000 linalg.py:193(_assert_stacked_2d)\n",
      "        4    0.000    0.000    0.000    0.000 {method 'swapaxes' of 'numpy.ndarray' objects}\n",
      "        1    0.000    0.000    0.000    0.000 numeric.py:1858(isscalar)\n",
      "        1    0.000    0.000    0.000    0.000 <__array_function__ internals>:2(argmax)\n",
      "        4    0.000    0.000    0.000    0.000 fromnumeric.py:550(swapaxes)\n",
      "        1    0.000    0.000    0.000    0.000 fromnumeric.py:1121(argmax)\n",
      "        1    0.000    0.000    0.000    0.000 _methods.py:54(_any)\n",
      "        2    0.000    0.000    0.000    0.000 linalg.py:210(_is_empty_2d)\n",
      "        3    0.000    0.000    0.000    0.000 linalg.py:1478(_svd_dispatcher)\n",
      "        2    0.000    0.000    0.000    0.000 {method 'conjugate' of 'numpy.ndarray' objects}\n",
      "        4    0.000    0.000    0.000    0.000 fromnumeric.py:546(_swapaxes_dispatcher)\n",
      "        1    0.000    0.000    0.000    0.000 {method 'disable' of '_lsprof.Profiler' objects}\n",
      "        2    0.000    0.000    0.000    0.000 linalg.py:1911(_pinv_dispatcher)\n",
      "        2    0.000    0.000    0.000    0.000 fromnumeric.py:2633(_amax_dispatcher)\n",
      "        1    0.000    0.000    0.000    0.000 function_base.py:18(_linspace_dispatcher)\n",
      "        1    0.000    0.000    0.000    0.000 fromnumeric.py:1117(_argmax_dispatcher)\n",
      "        1    0.000    0.000    0.000    0.000 {built-in method _operator.index}\n",
      "        1    0.000    0.000    0.000    0.000 {built-in method builtins.abs}\n",
      "        1    0.000    0.000    0.000    0.000 multiarray.py:664(result_type)\n",
      "        1    0.000    0.000    0.000    0.000 twodim_base.py:230(_diag_dispatcher)\n",
      "\n",
      "\n"
     ]
    }
   ],
   "source": [
    "#cProfile.run('ica.nonparametric_ica(X)',sort='tottime')"
   ]
  },
  {
   "cell_type": "code",
   "execution_count": 21,
   "metadata": {},
   "outputs": [],
   "source": [
    "#%timeit ica.nonparametric_ica(X)\n",
    "#%timeit R_matlab,W_matlab,_,__ = eng.nonparametric_ica(matlab.double(X.tolist()),3, 10,nargout=4)\n"
   ]
  },
  {
   "cell_type": "code",
   "execution_count": 22,
   "metadata": {},
   "outputs": [
    {
     "data": {
      "text/plain": [
       "array([[ 1.28576262,  0.92342362,  0.42856649],\n",
       "       [ 0.29103674,  1.50699473,  0.94674937],\n",
       "       [ 0.76299099,  0.28001005,  0.85752315],\n",
       "       [ 1.30315163,  0.68147636,  0.49805467],\n",
       "       [ 0.1190624 ,  1.56487608,  0.05379937],\n",
       "       [ 0.10822291,  0.31118318,  1.08501485],\n",
       "       [ 1.71512967,  1.30735282,  0.08520068],\n",
       "       [ 0.57841062,  1.10777141,  1.73713082],\n",
       "       [ 0.98662577,  0.1526063 ,  0.14093332],\n",
       "       [ 0.72680083,  0.22248389,  1.27137392],\n",
       "       [ 1.7385385 ,  1.57355491,  1.74608055],\n",
       "       [ 0.36115041,  1.61544365,  0.167071  ],\n",
       "       [ 1.52590618,  1.48029618,  0.79544756],\n",
       "       [ 1.33871663,  1.47682025,  0.48819721],\n",
       "       [ 1.33565198,  0.82100658,  0.10654395],\n",
       "       [ 1.22720026,  0.17393558,  0.48807994],\n",
       "       [ 1.2303919 ,  0.3098257 ,  0.42859799],\n",
       "       [ 1.40122712,  1.33298982,  0.16853388],\n",
       "       [ 0.32985354,  0.40021301,  1.40017216],\n",
       "       [ 0.14284864,  0.60623209,  0.72031429],\n",
       "       [ 1.23465786,  0.45020902,  1.62065547],\n",
       "       [ 1.72038797,  0.95134031,  0.19555572],\n",
       "       [ 1.5823849 ,  0.88858677,  0.91165747],\n",
       "       [ 0.47170429,  1.28187812,  1.75793097],\n",
       "       [ 1.18558613,  0.00883314,  0.6226196 ],\n",
       "       [ 0.83488667,  1.39326623,  0.96254452],\n",
       "       [ 0.27379792,  0.566136  ,  0.67223117],\n",
       "       [ 1.7039159 ,  0.58273008,  0.22382669],\n",
       "       [ 0.50671205,  0.69590366,  1.69467091],\n",
       "       [ 0.59681101,  0.0128974 ,  0.04689055],\n",
       "       [ 1.31218705,  0.8166349 ,  0.53509463],\n",
       "       [ 1.29162352,  0.64619437,  0.76428438],\n",
       "       [ 0.61355042,  1.30621217,  0.54407789],\n",
       "       [ 0.27388129,  1.62170035,  0.80131762],\n",
       "       [ 1.09406905,  1.11758066,  0.98224992],\n",
       "       [ 0.82375934,  0.67120114,  1.59538481],\n",
       "       [ 1.45375896,  0.64306294,  0.79990476],\n",
       "       [ 1.59505492,  0.37945942,  0.12620123],\n",
       "       [ 0.12133017,  0.70768236,  0.98871409],\n",
       "       [ 0.58273881,  0.72903942,  0.48220047],\n",
       "       [ 0.50832364,  1.18253375,  0.17271424],\n",
       "       [ 1.65596017,  0.16739868,  1.00239629],\n",
       "       [ 0.73225652,  1.66253202,  1.74511094],\n",
       "       [ 1.7470199 ,  1.40188453,  0.16244318],\n",
       "       [ 0.07403915,  1.03179341,  1.66973306],\n",
       "       [ 0.99950809,  0.33582409,  0.54317307],\n",
       "       [ 1.18369653,  1.11079088,  0.62877494],\n",
       "       [ 0.68938373,  1.47164453,  1.30070665],\n",
       "       [ 1.72837803,  1.2039663 ,  1.75164532],\n",
       "       [ 0.97528504,  1.05529932,  1.44085985],\n",
       "       [ 1.30278633,  1.41253167,  0.69263812],\n",
       "       [ 0.63173645,  0.84850486,  0.29019488],\n",
       "       [ 0.11181668,  0.33885979,  0.80304141],\n",
       "       [ 0.17223515,  0.30619788,  0.78776479],\n",
       "       [ 1.16708188,  0.6230863 ,  1.1090718 ],\n",
       "       [ 0.14264446,  1.0117759 ,  0.13763015],\n",
       "       [ 1.20414893,  1.59722686, -0.02451873],\n",
       "       [ 0.15460152,  0.84959637,  0.24928844],\n",
       "       [ 0.72753155,  1.05253003,  0.11022641],\n",
       "       [ 1.1752668 ,  0.89762311,  0.02952153],\n",
       "       [ 0.79702327,  1.34981268,  1.17818943],\n",
       "       [ 1.73388397,  0.48079042,  1.54121142],\n",
       "       [ 0.4643274 ,  1.41611069,  1.80907366],\n",
       "       [ 1.12149954,  1.51257545,  1.2053648 ],\n",
       "       [ 0.27421911,  0.16094163,  0.279238  ],\n",
       "       [ 0.31795059,  0.37063648,  1.16228531],\n",
       "       [ 1.12489186,  1.23888778,  1.02431951],\n",
       "       [ 0.25172925,  0.71590216,  1.36832275],\n",
       "       [ 1.08327619,  0.18251729,  1.68845178],\n",
       "       [ 0.51150679,  0.55228051,  1.5682991 ],\n",
       "       [ 1.57537144,  1.23029767,  0.15297652],\n",
       "       [ 1.10460771,  0.08938935,  0.2388114 ],\n",
       "       [ 0.52027029,  0.20147751,  0.2445244 ],\n",
       "       [ 0.11175534,  1.23624915,  0.48086014],\n",
       "       [ 0.91499292,  0.69479395,  0.31546712],\n",
       "       [ 0.37205179,  1.14996797,  1.11186427],\n",
       "       [ 0.16696804,  0.31799065,  0.48248952],\n",
       "       [ 0.87905961,  1.18282826,  1.22170747],\n",
       "       [ 0.51080185,  0.07333719,  1.22104631],\n",
       "       [ 1.4828915 ,  1.43028121,  1.67103537],\n",
       "       [ 1.14479778,  1.59815055,  1.5475687 ],\n",
       "       [ 0.61099883,  1.57847634,  1.75720956],\n",
       "       [ 1.42754116,  0.30341706,  1.81664363],\n",
       "       [ 0.30022155,  1.16030459,  0.47195347],\n",
       "       [ 1.26844843,  1.58346295,  0.02287687],\n",
       "       [ 0.35869962,  0.50738683,  0.76842683],\n",
       "       [ 0.40806634,  0.45061668,  1.73903379],\n",
       "       [ 0.61921354,  1.07411656,  1.61009078],\n",
       "       [ 1.11701584,  0.77434556,  0.52586606],\n",
       "       [ 0.40137205,  1.54051885,  0.37441666],\n",
       "       [ 1.01394806,  1.1168678 ,  0.08877475],\n",
       "       [ 1.5924141 ,  0.75089023,  1.2740672 ],\n",
       "       [ 0.34595662,  0.75239582,  0.94077074],\n",
       "       [ 0.77657017,  0.89379752,  0.4628133 ],\n",
       "       [ 0.55701423,  1.58918577,  0.13211976],\n",
       "       [ 0.73718608,  0.52495767,  1.70289656],\n",
       "       [ 0.25785843,  1.49950952,  0.14819185],\n",
       "       [ 1.64596692,  0.74391584,  0.33846319],\n",
       "       [ 1.16443126,  0.43250346,  0.46948947],\n",
       "       [ 0.06519813,  0.41764814,  1.29223094]])"
      ]
     },
     "execution_count": 22,
     "metadata": {},
     "output_type": "execute_result"
    }
   ],
   "source": [
    "R_python"
   ]
  },
  {
   "cell_type": "code",
   "execution_count": 23,
   "metadata": {},
   "outputs": [
    {
     "data": {
      "text/plain": [
       "array([[ 0.92857645,  0.4290843 ,  1.28235426],\n",
       "       [ 1.50520563,  0.96234016,  0.29171918],\n",
       "       [ 0.27394223,  0.8508455 ,  0.76706459],\n",
       "       [ 0.6843991 ,  0.49442534,  1.30130374],\n",
       "       [ 1.57391796,  0.07612933,  0.11256383],\n",
       "       [ 0.29988076,  1.08347927,  0.11555889],\n",
       "       [ 1.32075563,  0.08940125,  1.70626503],\n",
       "       [ 1.09487063,  1.74030622,  0.58661586],\n",
       "       [ 0.15562491,  0.13384559,  0.98483386],\n",
       "       [ 0.21075924,  1.26213189,  0.73460344],\n",
       "       [ 1.56785566,  1.74601109,  1.7421297 ],\n",
       "       [ 1.62431982,  0.18747704,  0.35480272],\n",
       "       [ 1.48509624,  0.80047342,  1.52258082],\n",
       "       [ 1.48470555,  0.49631829,  1.33331841],\n",
       "       [ 0.82977684,  0.10664176,  1.32991803],\n",
       "       [ 0.17368549,  0.47750138,  1.2276085 ],\n",
       "       [ 0.31113484,  0.4203339 ,  1.22972546],\n",
       "       [ 1.34426799,  0.1754864 ,  1.39366961],\n",
       "       [ 0.38636741,  1.39649149,  0.33888279],\n",
       "       [ 0.60136926,  0.7247062 ,  0.14585169],\n",
       "       [ 0.43745938,  1.60867164,  1.24317631],\n",
       "       [ 0.96128037,  0.19379392,  1.71393346],\n",
       "       [ 0.88865958,  0.90667945,  1.58240193],\n",
       "       [ 1.26932648,  1.76457729,  0.47958782],\n",
       "       [ 0.00576166,  0.60925893,  1.18789957],\n",
       "       [ 1.39274588,  0.97154054,  0.83491536],\n",
       "       [ 0.56215231,  0.6750957 ,  0.27627144],\n",
       "       [ 0.59007386,  0.21650356,  1.6993015 ],\n",
       "       [ 0.68081827,  1.69246316,  0.51648929],\n",
       "       [ 0.01473376,  0.0415901 ,  0.5957501 ],\n",
       "       [ 0.81992864,  0.53324726,  1.31004689],\n",
       "       [ 0.64553447,  0.75892771,  1.29213976],\n",
       "       [ 1.30953957,  0.55574916,  0.61102808],\n",
       "       [ 1.62234   ,  0.8195008 ,  0.27292063],\n",
       "       [ 1.11620398,  0.9846975 ,  1.09482926],\n",
       "       [ 0.65845775,  1.59048914,  0.83208708],\n",
       "       [ 0.64257662,  0.79289647,  1.4542032 ],\n",
       "       [ 0.38639479,  0.11724301,  1.59075781],\n",
       "       [ 0.6999784 ,  0.99352205,  0.12615627],\n",
       "       [ 0.729609  ,  0.48572478,  0.58223748],\n",
       "       [ 1.18936005,  0.18525342,  0.5035225 ],\n",
       "       [ 0.16236489,  0.98543129,  1.6596218 ],\n",
       "       [ 1.65341427,  1.75527125,  0.73780661],\n",
       "       [ 1.41500547,  0.1674145 ,  1.73831295],\n",
       "       [ 1.01730339,  1.6765399 ,  0.08318995],\n",
       "       [ 0.33494648,  0.53678162,  1.00021037],\n",
       "       [ 1.11414619,  0.63204969,  1.18137299],\n",
       "       [ 1.46678698,  1.31052474,  0.69219582],\n",
       "       [ 1.19597371,  1.74605459,  1.73361228],\n",
       "       [ 1.04735333,  1.44118222,  0.98035474],\n",
       "       [ 1.41733959,  0.69910977,  1.29942505],\n",
       "       [ 0.85237374,  0.29602639,  0.62903495],\n",
       "       [ 0.33126072,  0.80326493,  0.11671008],\n",
       "       [ 0.29883438,  0.787036  ,  0.17700128],\n",
       "       [ 0.61748911,  1.10278667,  1.17081919],\n",
       "       [ 1.01659417,  0.1509875 ,  0.13913458],\n",
       "       [ 1.61170534, -0.01089497,  1.19433984],\n",
       "       [ 0.85210725,  0.25954644,  0.15267156],\n",
       "       [ 1.06023134,  0.11917107,  0.72225963],\n",
       "       [ 0.90717856,  0.03256729,  1.16894777],\n",
       "       [ 1.34619037,  1.18581331,  0.79909673],\n",
       "       [ 0.47117761,  1.52567055,  1.74045587],\n",
       "       [ 1.40368372,  1.81756414,  0.47207672],\n",
       "       [ 1.5108508 ,  1.21245186,  1.12234684],\n",
       "       [ 0.15947925,  0.27789014,  0.27518852],\n",
       "       [ 0.35954377,  1.15942089,  0.32517931],\n",
       "       [ 1.23782304,  1.02812301,  1.12540932],\n",
       "       [ 0.70401297,  1.37025612,  0.25933481],\n",
       "       [ 0.16674305,  1.67342954,  1.09384424],\n",
       "       [ 0.53794545,  1.56449431,  0.52084625],\n",
       "       [ 1.24184825,  0.15691639,  1.56771743],\n",
       "       [ 0.09127446,  0.22925086,  1.103614  ],\n",
       "       [ 0.20165607,  0.24178648,  0.52020838],\n",
       "       [ 1.23798072,  0.49621063,  0.11018128],\n",
       "       [ 0.69855227,  0.31635346,  0.91249322],\n",
       "       [ 1.14432328,  1.12054222,  0.37542193],\n",
       "       [ 0.31449317,  0.48347148,  0.16918845],\n",
       "       [ 1.17799769,  1.22587266,  0.88201032],\n",
       "       [ 0.06051132,  1.21170218,  0.51932958],\n",
       "       [ 1.42366861,  1.67142278,  1.48707219],\n",
       "       [ 1.59274436,  1.55407716,  1.14803756],\n",
       "       [ 1.5682339 ,  1.76711117,  0.61728887],\n",
       "       [ 0.28810786,  1.79978569,  1.43784501],\n",
       "       [ 1.16243978,  0.48453665,  0.29845835],\n",
       "       [ 1.59752029,  0.03549449,  1.25893742],\n",
       "       [ 0.50218701,  0.76918618,  0.3620156 ],\n",
       "       [ 0.43313942,  1.73377478,  0.41948235],\n",
       "       [ 1.06276581,  1.61301606,  0.62642335],\n",
       "       [ 0.77673747,  0.52514714,  1.11543489],\n",
       "       [ 1.54651787,  0.39232636,  0.39695293],\n",
       "       [ 1.12634358,  0.09626816,  1.00755832],\n",
       "       [ 0.74565743,  1.26515607,  1.59597118],\n",
       "       [ 0.74643868,  0.94450524,  0.34967488],\n",
       "       [ 0.8963451 ,  0.46721058,  0.77475624],\n",
       "       [ 1.59911388,  0.15057067,  0.55003466],\n",
       "       [ 0.5096655 ,  1.69603205,  0.7472215 ],\n",
       "       [ 1.50753061,  0.1678498 ,  0.25209006],\n",
       "       [ 0.75055082,  0.33352866,  1.64174302],\n",
       "       [ 0.43376684,  0.46346188,  1.16373215],\n",
       "       [ 0.40421468,  1.29167482,  0.07388335]])"
      ]
     },
     "execution_count": 23,
     "metadata": {},
     "output_type": "execute_result"
    }
   ],
   "source": [
    "R_matlab"
   ]
  }
 ],
 "metadata": {
  "interpreter": {
   "hash": "c17a1cf0cf59f7c43edbb771ba941ea5bdeafe92d310cee5e440032ced94b9c9"
  },
  "kernelspec": {
   "display_name": "Python 3.8.12 ('audition2')",
   "language": "python",
   "name": "python3"
  },
  "language_info": {
   "codemirror_mode": {
    "name": "ipython",
    "version": 3
   },
   "file_extension": ".py",
   "mimetype": "text/x-python",
   "name": "python",
   "nbconvert_exporter": "python",
   "pygments_lexer": "ipython3",
   "version": "3.8.12"
  },
  "orig_nbformat": 4
 },
 "nbformat": 4,
 "nbformat_minor": 2
}
